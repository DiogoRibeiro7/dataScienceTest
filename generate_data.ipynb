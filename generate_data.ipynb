version https://git-lfs.github.com/spec/v1
oid sha256:7ebb9876fb64e6566443fc8762d91dd5053e256417029677bc4ebf08d2fba8ba
size 54329558
