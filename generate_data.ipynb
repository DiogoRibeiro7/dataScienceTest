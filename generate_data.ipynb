version https://git-lfs.github.com/spec/v1
oid sha256:9a411f95dd4848fed8b2635536cc1cd39a692230a08db1a1c57ded51a8d863ca
size 54325483
