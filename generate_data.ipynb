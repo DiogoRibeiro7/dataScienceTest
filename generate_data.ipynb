version https://git-lfs.github.com/spec/v1
oid sha256:ee4cd29c3f56a0b4b960bfc9802678845065ded3b4bf6f261f126a21af63c516
size 54327518
